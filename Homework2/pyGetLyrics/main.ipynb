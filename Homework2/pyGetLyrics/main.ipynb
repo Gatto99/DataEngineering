{
 "cells": [
  {
   "cell_type": "code",
   "execution_count": 1,
   "metadata": {},
   "outputs": [
    {
     "name": "stdout",
     "output_type": "stream",
     "text": [
      "Requirement already satisfied: lyricsgenius in /opt/anaconda3/envs/idd/lib/python3.10/site-packages (3.0.1)\n",
      "Requirement already satisfied: requests>=2.20.0 in /opt/anaconda3/envs/idd/lib/python3.10/site-packages (from lyricsgenius) (2.28.1)\n",
      "Requirement already satisfied: beautifulsoup4>=4.6.0 in /opt/anaconda3/envs/idd/lib/python3.10/site-packages (from lyricsgenius) (4.11.1)\n",
      "Requirement already satisfied: soupsieve>1.2 in /opt/anaconda3/envs/idd/lib/python3.10/site-packages (from beautifulsoup4>=4.6.0->lyricsgenius) (2.3.1)\n",
      "Requirement already satisfied: urllib3<1.27,>=1.21.1 in /opt/anaconda3/envs/idd/lib/python3.10/site-packages (from requests>=2.20.0->lyricsgenius) (1.26.11)\n",
      "Requirement already satisfied: charset-normalizer<3,>=2 in /opt/anaconda3/envs/idd/lib/python3.10/site-packages (from requests>=2.20.0->lyricsgenius) (2.0.4)\n",
      "Requirement already satisfied: certifi>=2017.4.17 in /opt/anaconda3/envs/idd/lib/python3.10/site-packages (from requests>=2.20.0->lyricsgenius) (2022.9.24)\n",
      "Requirement already satisfied: idna<4,>=2.5 in /opt/anaconda3/envs/idd/lib/python3.10/site-packages (from requests>=2.20.0->lyricsgenius) (3.3)\n",
      "Note: you may need to restart the kernel to use updated packages.\n"
     ]
    }
   ],
   "source": [
    "# LyricsGeniusAPI per prendere i lyrics e generare un corpus di documenti\n",
    "%pip install lyricsgenius"
   ]
  },
  {
   "cell_type": "code",
   "execution_count": 2,
   "metadata": {},
   "outputs": [],
   "source": [
    "import unicodedata\n",
    "import re\n",
    "\n",
    "def slugify(value, allow_unicode=False):\n",
    "    \"\"\"\n",
    "    Taken from https://github.com/django/django/blob/master/django/utils/text.py\n",
    "    Convert to ASCII if 'allow_unicode' is False. Convert spaces or repeated\n",
    "    dashes to single dashes. Remove characters that aren't alphanumerics,\n",
    "    underscores, or hyphens. Convert to lowercase. Also strip leading and\n",
    "    trailing whitespace, dashes, and underscores.\n",
    "    \"\"\"\n",
    "    value = str(value)\n",
    "    if allow_unicode:\n",
    "        value = unicodedata.normalize('NFKC', value)\n",
    "    else:\n",
    "        value = unicodedata.normalize('NFKD', value).encode('ascii', 'ignore').decode('ascii')\n",
    "    return re.sub(r'[^\\w\\s-]', ' ', value)"
   ]
  },
  {
   "cell_type": "code",
   "execution_count": 3,
   "metadata": {},
   "outputs": [],
   "source": [
    "import configparser\n",
    "\n",
    "config = configparser.ConfigParser()\n",
    "config.read(\"config.ini\")\n",
    "\n",
    "user = config['USER']\n",
    "numSongs = int(user['numofsongs'])\n",
    "name_artist = user['artistname']\n",
    "\n",
    "artistDirectory = name_artist\n",
    "lyricsDirectory = '../lyrics'"
   ]
  },
  {
   "cell_type": "code",
   "execution_count": 4,
   "metadata": {},
   "outputs": [
    {
     "name": "stdout",
     "output_type": "stream",
     "text": [
      "../lyrics/Coldplay\n"
     ]
    }
   ],
   "source": [
    "import os\n",
    "from lyricsgenius import Genius\n",
    "token = '2e310SgO-tUSfSlqxNO6nLmA2TkTG8urLx6MGUz_eXKmWtxWkyYxX0fpEuESHC8K'\n",
    "genius = Genius(token, timeout=120, verbose=True, remove_section_headers=True)\n",
    "\n",
    "pathArtistDir = os.path.join(lyricsDirectory, artistDirectory)\n",
    "print(pathArtistDir)\n",
    "if not os.path.exists(pathArtistDir):\n",
    "    os.mkdir(pathArtistDir)\n"
   ]
  },
  {
   "cell_type": "code",
   "execution_count": 5,
   "metadata": {},
   "outputs": [
    {
     "name": "stdout",
     "output_type": "stream",
     "text": [
      "Searching for songs by Coldplay...\n",
      "\n",
      "Song 1: \"Viva la Vida\"\n",
      "Song 2: \"The Scientist\"\n",
      "Song 3: \"Yellow\"\n"
     ]
    }
   ],
   "source": [
    "artist = genius.search_artist(artist_name=name_artist, sort='popularity', max_songs=numSongs, get_full_info=False, include_features=True)\n",
    "for song in artist.songs:\n",
    "    songTitle = slugify(song.title)\n",
    "    pathLyricsSong = pathArtistDir + \"/\" + songTitle\n",
    "    fileLyricsSong = open(pathLyricsSong, mode=\"w\")\n",
    "    lyricsSong = re.sub(r\"[0-9]{0,4}Embed$\", \"\", song.lyrics)\n",
    "    fileLyricsSong.write(lyricsSong)\n",
    "    fileLyricsSong.close()"
   ]
  },
  {
   "cell_type": "code",
   "execution_count": null,
   "metadata": {},
   "outputs": [],
   "source": []
  }
 ],
 "metadata": {
  "kernelspec": {
   "display_name": "Python 3.10.6 ('idd')",
   "language": "python",
   "name": "python3"
  },
  "language_info": {
   "codemirror_mode": {
    "name": "ipython",
    "version": 3
   },
   "file_extension": ".py",
   "mimetype": "text/x-python",
   "name": "python",
   "nbconvert_exporter": "python",
   "pygments_lexer": "ipython3",
   "version": "3.10.6"
  },
  "orig_nbformat": 4,
  "vscode": {
   "interpreter": {
    "hash": "0f94e1bc500441275c5513bb7f202f158286e1031e224f73c0afbea20f0b575c"
   }
  }
 },
 "nbformat": 4,
 "nbformat_minor": 2
}
