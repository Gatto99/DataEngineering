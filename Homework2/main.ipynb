{
 "cells": [
  {
   "cell_type": "code",
   "execution_count": 7,
   "metadata": {},
   "outputs": [
    {
     "name": "stdout",
     "output_type": "stream",
     "text": [
      "Requirement already satisfied: lyricsgenius in /opt/anaconda3/envs/idd/lib/python3.10/site-packages (3.0.1)\n",
      "Requirement already satisfied: requests>=2.20.0 in /opt/anaconda3/envs/idd/lib/python3.10/site-packages (from lyricsgenius) (2.28.1)\n",
      "Requirement already satisfied: beautifulsoup4>=4.6.0 in /opt/anaconda3/envs/idd/lib/python3.10/site-packages (from lyricsgenius) (4.11.1)\n",
      "Requirement already satisfied: soupsieve>1.2 in /opt/anaconda3/envs/idd/lib/python3.10/site-packages (from beautifulsoup4>=4.6.0->lyricsgenius) (2.3.1)\n",
      "Requirement already satisfied: idna<4,>=2.5 in /opt/anaconda3/envs/idd/lib/python3.10/site-packages (from requests>=2.20.0->lyricsgenius) (3.3)\n",
      "Requirement already satisfied: charset-normalizer<3,>=2 in /opt/anaconda3/envs/idd/lib/python3.10/site-packages (from requests>=2.20.0->lyricsgenius) (2.0.4)\n",
      "Requirement already satisfied: certifi>=2017.4.17 in /opt/anaconda3/envs/idd/lib/python3.10/site-packages (from requests>=2.20.0->lyricsgenius) (2022.9.24)\n",
      "Requirement already satisfied: urllib3<1.27,>=1.21.1 in /opt/anaconda3/envs/idd/lib/python3.10/site-packages (from requests>=2.20.0->lyricsgenius) (1.26.11)\n",
      "Note: you may need to restart the kernel to use updated packages.\n"
     ]
    }
   ],
   "source": [
    "# LyricsGeniusAPI per prendere i lyrics e generare un corpus di documenti\n",
    "%pip install lyricsgenius"
   ]
  },
  {
   "cell_type": "code",
   "execution_count": 8,
   "metadata": {},
   "outputs": [],
   "source": [
    "import unicodedata\n",
    "import re\n",
    "\n",
    "def slugify(value, allow_unicode=False):\n",
    "    \"\"\"\n",
    "    Taken from https://github.com/django/django/blob/master/django/utils/text.py\n",
    "    Convert to ASCII if 'allow_unicode' is False. Convert spaces or repeated\n",
    "    dashes to single dashes. Remove characters that aren't alphanumerics,\n",
    "    underscores, or hyphens. Convert to lowercase. Also strip leading and\n",
    "    trailing whitespace, dashes, and underscores.\n",
    "    \"\"\"\n",
    "    value = str(value)\n",
    "    if allow_unicode:\n",
    "        value = unicodedata.normalize('NFKC', value)\n",
    "    else:\n",
    "        value = unicodedata.normalize('NFKD', value).encode('ascii', 'ignore').decode('ascii')\n",
    "    return re.sub(r'[^\\w\\s-]', ' ', value)"
   ]
  },
  {
   "cell_type": "code",
   "execution_count": 9,
   "metadata": {},
   "outputs": [],
   "source": [
    "import configparser\n",
    "\n",
    "config = configparser.ConfigParser()\n",
    "config.read(\"config.ini\")\n",
    "\n",
    "user = config['USER']\n",
    "numSongs = int(user['numofsongs'])\n",
    "name_artist = user['artistname']"
   ]
  },
  {
   "cell_type": "code",
   "execution_count": 27,
   "metadata": {},
   "outputs": [
    {
     "name": "stdout",
     "output_type": "stream",
     "text": [
      "./lyrics/Coldplay\n"
     ]
    }
   ],
   "source": [
    "import os\n",
    "from lyricsgenius import Genius\n",
    "token = '2e310SgO-tUSfSlqxNO6nLmA2TkTG8urLx6MGUz_eXKmWtxWkyYxX0fpEuESHC8K'\n",
    "genius = Genius(token, timeout=120, verbose=True, remove_section_headers=True)\n",
    "\n",
    "artistDirectory = name_artist\n",
    "lyricsDirectory = './lyrics'\n",
    "pathArtistDir = os.path.join(lyricsDirectory, artistDirectory)\n",
    "print(pathArtistDir)\n",
    "if not os.path.exists(pathArtistDir):\n",
    "    os.mkdir(pathArtistDir)\n"
   ]
  },
  {
   "cell_type": "code",
   "execution_count": 28,
   "metadata": {},
   "outputs": [
    {
     "name": "stdout",
     "output_type": "stream",
     "text": [
      "Searching for songs by Coldplay...\n",
      "\n",
      "Song 1: \"Viva la Vida\"\n",
      "Song 2: \"The Scientist\"\n",
      "Song 3: \"Yellow\"\n",
      "Song 4: \"Fix You\"\n",
      "Song 5: \"Hymn for the Weekend\"\n",
      "Song 6: \"A Sky Full of Stars\"\n",
      "Song 7: \"Everglow\"\n",
      "Song 8: \"Sparks\"\n",
      "Song 9: \"Adventure of a Lifetime\"\n",
      "Song 10: \"Paradise\"\n",
      "Song 11: \"Clocks\"\n",
      "Song 12: \"Magic\"\n",
      "Song 13: \"Orphans\"\n",
      "Song 14: \"Daddy\"\n",
      "Song 15: \"Everyday Life\"\n",
      "Song 16: \"Higher Power\"\n",
      "Song 17: \"Trouble\"\n",
      "Song 18: \"Up&Up\"\n",
      "Song 19: \"In My Place\"\n",
      "Song 20: \"Arabesque\"\n",
      "Song 21: \"Hypnotised\"\n",
      "Song 22: \"Violet Hill\"\n",
      "Song 23: \"All I Can Think About Is You\"\n",
      "Song 24: \"Champion of the World\"\n",
      "Song 25: \"Fly On\"\n",
      "Song 26: \"Shiver\"\n",
      "Song 27: \"Ink\"\n",
      "Song 28: \"Coloratura\"\n",
      "Song 29: \"Strawberry Swing\"\n",
      "Song 30: \"Green Eyes\"\n",
      "Song 31: \"A Rush of Blood to the Head\"\n",
      "Song 32: \"Don’t Panic\"\n",
      "Song 33: \"Church\"\n",
      "Song 34: \"Warning Sign\"\n",
      "Song 35: \"Always in My Head\"\n",
      "Song 36: \"O\"\n",
      "Song 37: \"Midnight\"\n",
      "Song 38: \"Trouble in Town\"\n",
      "Song 39: \"Every Teardrop Is a Waterfall\"\n",
      "Song 40: \"Charlie Brown\"\n",
      "Song 41: \"Speed of Sound\"\n",
      "Song 42: \"True Love\"\n",
      "Song 43: \"Amsterdam\"\n",
      "Song 44: \"God Put a Smile upon Your Face\"\n",
      "Song 45: \"Death and All His Friends\"\n",
      "Song 46: \"Fun\"\n",
      "Song 47: \"A Head Full of Dreams\"\n",
      "Song 48: \"Amazing Day\"\n",
      "Song 49: \"Christmas Lights\"\n",
      "Song 50: \"Talk\"\n",
      "Song 51: \"Politik\"\n",
      "Song 52: \"Lost!\"\n",
      "Song 53: \"بنی آدم\"\n",
      "Song 54: \"Cry Cry Cry\"\n",
      "Song 55: \"X&Y\"\n",
      "Song 56: \"Army of One\"\n",
      "Song 57: \"A L I E N S\"\n",
      "Song 58: \"Til Kingdom Come\"\n",
      "Song 59: \"Hymn for the Weekend (Seeb Remix)\"\n",
      "Song 60: \"Parachutes\"\n",
      "Song 61: \"Birds\"\n",
      "Song 62: \"Lost+ (Remix)\"\n",
      "Song 63: \"Another’s Arms\"\n",
      "Song 64: \"We Never Change\"\n",
      "Song 65: \"Spies\"\n",
      "Song 66: \"BrokEn\"\n",
      "Song 67: \"Oceans\"\n",
      "Song 68: \"People of the Pride\"\n",
      "Song 69: \"Hurts Like Heaven\"\n",
      "Couldn't find the lyrics section. Please report this if the song has lyrics.\n",
      "Song URL: https://genius.com/Coldplay-sunrise-lyrics\n",
      "Song 70: \"Sunrise\"\n",
      "Song 71: \"What If\"\n",
      "Song 72: \"Rastafarian Targaryen\"\n",
      "Song 73: \"Gravity\"\n",
      "Song 74: \"Lovers in Japan / Reign of Love\"\n",
      "Song 75: \"42\"\n",
      "Song 76: \"Flags\"\n",
      "Song 77: \"The Hardest Part\"\n",
      "Song 78: \"Atlas\"\n",
      "Song 79: \"Èkó\"\n",
      "Song 80: \"Us Against the World\"\n",
      "Song 81: \"Old Friends\"\n",
      "Song 82: \"Kaleidoscope\"\n",
      "Song 83: \"Swallowed in the Sea\"\n",
      "Song 84: \"Guns\"\n",
      "Song 85: \"A Message\"\n",
      "Song 86: \"Biutyful\"\n",
      "Song 87: \"X Marks the Spot\"\n",
      "Song 88: \"Hymn for the Weekend (Alan Walker Remix)\"\n",
      "Song 89: \"Life in Technicolor II\"\n",
      "Song 90: \"Times Like These (BBC Radio 1 Stay Home Live Lounge)\"\n",
      "Song 91: \"Everything’s Not Lost\"\n",
      "Song 92: \"See You Soon\"\n",
      "Song 93: \"High Speed\"\n",
      "Song 94: \"Humankind\"\n",
      "Song 95: \"Square One\"\n",
      "Song 96: \"Miracles\"\n",
      "Song 97: \"When I Need a Friend\"\n",
      "Song 98: \"Yes\"\n",
      "Song 99: \"Cemeteries of London\"\n",
      "Song 100: \"Something Just Like This (Beau Collins Remix)\"\n",
      "\n",
      "Reached user-specified song limit (100).\n",
      "Done. Found 100 songs.\n"
     ]
    }
   ],
   "source": [
    "artist = genius.search_artist(artist_name=name_artist, sort='popularity', max_songs=numSongs, get_full_info=False, include_features=True)\n",
    "for song in artist.songs:\n",
    "    songTitle = slugify(song.title)\n",
    "    pathLyricsSong = pathArtistDir + \"/\" + songTitle\n",
    "    fileLyricsSong = open(pathLyricsSong, mode=\"w\")\n",
    "    lyricsSong = re.sub(r\"[0-9]{0,4}Embed$\", \"\", song.lyrics)\n",
    "    fileLyricsSong.write(lyricsSong)\n",
    "    fileLyricsSong.close()"
   ]
  },
  {
   "cell_type": "code",
   "execution_count": null,
   "metadata": {},
   "outputs": [],
   "source": []
  }
 ],
 "metadata": {
  "kernelspec": {
   "display_name": "Python 3.10.6 ('idd')",
   "language": "python",
   "name": "python3"
  },
  "language_info": {
   "codemirror_mode": {
    "name": "ipython",
    "version": 3
   },
   "file_extension": ".py",
   "mimetype": "text/x-python",
   "name": "python",
   "nbconvert_exporter": "python",
   "pygments_lexer": "ipython3",
   "version": "3.10.6"
  },
  "orig_nbformat": 4,
  "vscode": {
   "interpreter": {
    "hash": "0f94e1bc500441275c5513bb7f202f158286e1031e224f73c0afbea20f0b575c"
   }
  }
 },
 "nbformat": 4,
 "nbformat_minor": 2
}
